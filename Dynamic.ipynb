{
 "cells": [
  {
   "cell_type": "code",
   "execution_count": 2,
   "metadata": {},
   "outputs": [
    {
     "data": {
      "text/plain": [
       "1"
      ]
     },
     "execution_count": 2,
     "metadata": {},
     "output_type": "execute_result"
    }
   ],
   "source": [
    "#exemplo1\n",
    "\n",
    "dicionario = {'a': 1, 'b': 2, 'c': 3}\n",
    "\n",
    "valor = dicionario.get('a')\n",
    "valor"
   ]
  },
  {
   "cell_type": "code",
   "execution_count": 3,
   "metadata": {},
   "outputs": [
    {
     "name": "stdout",
     "output_type": "stream",
     "text": [
      "Contagem de elementos\n",
      "a: 1\n",
      "c: 1\n",
      "b: 1\n"
     ]
    }
   ],
   "source": [
    "#exemplo2\n",
    "\n",
    "lista = {'a', 'b', 'b', 'c', 'a', 'c', 'a'}\n",
    "contagem = {}\n",
    "\n",
    "for elemento in lista:\n",
    "    contagem[elemento] = contagem.get(elemento, 0) + 1\n",
    "\n",
    "print(\"Contagem de elementos\")\n",
    "\n",
    "for chave, valor in contagem.items():\n",
    "    print(f'{chave}: {valor}')\n",
    "\n",
    "#ex3- crie um programa para a contagem de palavras em uma lista\n",
    "lista = ['no failure', 'overstrain failure', 'overstrain failure', 'no failure', 'power failure', 'no failure', 'no failure',  'power failure',\n",
    "        'power failure', 'overstrain failure', 'overstrain failure']\n",
    "\n",
    "#ex4 - crie um programa para busca de produtos usando def e get.\n",
    "\n",
    "produtos = {'001': 'camisa', '002': 'calça', '003': 'média'}\n",
    "\n",
    "#ex5 - crie uma função para calcular a media de notas dos alunos. utilize a função def e items().\n",
    "\n",
    "notas_alunos = {'joao': [8,7,9], 'maria': [6,8,7], 'pedro': [8,6,7]}"
   ]
  }
 ],
 "metadata": {
  "kernelspec": {
   "display_name": "Python 3",
   "language": "python",
   "name": "python3"
  },
  "language_info": {
   "codemirror_mode": {
    "name": "ipython",
    "version": 3
   },
   "file_extension": ".py",
   "mimetype": "text/x-python",
   "name": "python",
   "nbconvert_exporter": "python",
   "pygments_lexer": "ipython3",
   "version": "3.11.4"
  },
  "orig_nbformat": 4
 },
 "nbformat": 4,
 "nbformat_minor": 2
}
